{
 "cells": [
  {
   "cell_type": "code",
   "execution_count": 1,
   "id": "6898ae0e-1486-470f-bc5a-6514b806c6c2",
   "metadata": {},
   "outputs": [],
   "source": [
    "import torch\n",
    "import numpy as np"
   ]
  },
  {
   "cell_type": "code",
   "execution_count": 2,
   "id": "044d7edf-21d6-4656-beb1-2731f6cf244d",
   "metadata": {},
   "outputs": [],
   "source": [
    "data = [[1,2], [3,4]]\n",
    "x_data = torch.Tensor(data)"
   ]
  },
  {
   "cell_type": "code",
   "execution_count": 3,
   "id": "b63586e0-e561-4397-8453-d7b5861af46e",
   "metadata": {},
   "outputs": [],
   "source": [
    "### numpy array to tensor"
   ]
  },
  {
   "cell_type": "code",
   "execution_count": 5,
   "id": "fb6aa7d3-f32e-4ac0-8660-37b5e9ce40b6",
   "metadata": {},
   "outputs": [],
   "source": [
    "np_array = np.array(data)\n",
    "x_np = torch.from_numpy(np_array)"
   ]
  },
  {
   "cell_type": "code",
   "execution_count": null,
   "id": "c9a385e6-8157-4270-b0ec-bc481d7a5bbb",
   "metadata": {},
   "outputs": [],
   "source": [
    "### Creating tensor, retaining shape and type only"
   ]
  },
  {
   "cell_type": "code",
   "execution_count": 6,
   "id": "1bacf3de-dae6-4b88-81b9-1e8b939a872b",
   "metadata": {},
   "outputs": [
    {
     "name": "stdout",
     "output_type": "stream",
     "text": [
      "Ones Tensor: \n",
      " tensor([[1., 1.],\n",
      "        [1., 1.]]) \n",
      "\n"
     ]
    }
   ],
   "source": [
    "x_ones = torch.ones_like(x_data)\n",
    "print(f\"Ones Tensor: \\n {x_ones} \\n\")"
   ]
  },
  {
   "cell_type": "code",
   "execution_count": 7,
   "id": "46e97277-25d6-41ea-b93f-d13d5c29f6c8",
   "metadata": {},
   "outputs": [
    {
     "name": "stdout",
     "output_type": "stream",
     "text": [
      "Random Tensor \n",
      " tensor([[0.0740, 0.6317],\n",
      "        [0.6335, 0.0965]]) \n",
      "\n"
     ]
    }
   ],
   "source": [
    "x_rand = torch.rand_like(x_data, dtype=torch.float) # overriding the type\n",
    "print(f\"Random Tensor \\n {x_rand} \\n\")"
   ]
  },
  {
   "cell_type": "code",
   "execution_count": 8,
   "id": "b50ef63d-3572-42fc-8dac-2b8ed8b65118",
   "metadata": {},
   "outputs": [],
   "source": [
    "### From shape tuple\n",
    "shape = (2,3)"
   ]
  },
  {
   "cell_type": "code",
   "execution_count": 9,
   "id": "7e6c9518-92ce-4e30-8840-c4a9972ee07a",
   "metadata": {},
   "outputs": [],
   "source": [
    "rand_tensor = torch.rand(shape)\n",
    "one_tensor = torch.ones(shape)\n",
    "zeros_tensor = torch.zeros(shape)"
   ]
  },
  {
   "cell_type": "code",
   "execution_count": 10,
   "id": "1fa08986-eba8-41f2-b4db-dab3fb015281",
   "metadata": {},
   "outputs": [],
   "source": [
    "### Attributes of a tensor"
   ]
  },
  {
   "cell_type": "code",
   "execution_count": 13,
   "id": "97293d00-6193-40ac-800a-365b81b459ca",
   "metadata": {},
   "outputs": [],
   "source": [
    "tensor = torch.rand(3,4) # returns a randomly generated 3x4 tensor"
   ]
  },
  {
   "cell_type": "code",
   "execution_count": 14,
   "id": "68cdf64f-99f7-49a7-b7f4-fe1ea32f71cc",
   "metadata": {},
   "outputs": [
    {
     "name": "stdout",
     "output_type": "stream",
     "text": [
      "Shape of tensor : torch.Size([3, 4])\n",
      "Datatype of tensor : torch.float32\n",
      "Device tensor is stored in: cpu\n"
     ]
    }
   ],
   "source": [
    "print(f\"Shape of tensor : {tensor.shape}\")\n",
    "print(f\"Datatype of tensor : {tensor.dtype}\")\n",
    "print(f\"Device tensor is stored in: {tensor.device}\")"
   ]
  },
  {
   "cell_type": "code",
   "execution_count": 15,
   "id": "c727df76-a57d-40f6-82ab-d5e50f95dbbe",
   "metadata": {},
   "outputs": [],
   "source": [
    "## Checking if gpu is available and switching\n",
    "device = \"cuda\" if torch.cuda.is_available() else \"cpu\""
   ]
  },
  {
   "cell_type": "code",
   "execution_count": 18,
   "id": "ba8af333-3495-456d-8a52-4cb77bfa6cfa",
   "metadata": {},
   "outputs": [
    {
     "name": "stdout",
     "output_type": "stream",
     "text": [
      "cuda\n"
     ]
    }
   ],
   "source": [
    "print(device)"
   ]
  },
  {
   "cell_type": "code",
   "execution_count": 19,
   "id": "6128d850-bebf-46ec-b1e2-7f8e68f8b300",
   "metadata": {},
   "outputs": [],
   "source": [
    "tensor = torch.rand(3,4).to(device)"
   ]
  },
  {
   "cell_type": "code",
   "execution_count": null,
   "id": "f68b182b-3a77-4eef-9034-b59ec5fec2b4",
   "metadata": {},
   "outputs": [],
   "source": [
    "### Alternate way\n",
    "with tensor.cuda.is_available():\n",
    "    tensor = tensor.to(\"cuda\")"
   ]
  },
  {
   "cell_type": "code",
   "execution_count": 20,
   "id": "1871df45-d1d4-4734-a541-3dd7764634f0",
   "metadata": {},
   "outputs": [
    {
     "name": "stdout",
     "output_type": "stream",
     "text": [
      "Shape of tensor : torch.Size([3, 4])\n",
      "Datatype of tensor : torch.float32\n",
      "Device tensor is stored in: cuda:0\n"
     ]
    }
   ],
   "source": [
    "print(f\"Shape of tensor : {tensor.shape}\")\n",
    "print(f\"Datatype of tensor : {tensor.dtype}\")\n",
    "print(f\"Device tensor is stored in: {tensor.device}\")"
   ]
  },
  {
   "cell_type": "code",
   "execution_count": 21,
   "id": "5576e1b5-fef5-452e-b364-7da85a7dc9dd",
   "metadata": {},
   "outputs": [],
   "source": [
    "### Tensor operations"
   ]
  },
  {
   "cell_type": "code",
   "execution_count": 22,
   "id": "35b429af-a520-4fc6-bd8e-bf5fe0ad7d51",
   "metadata": {},
   "outputs": [],
   "source": [
    "tensor = torch.ones(3,4)"
   ]
  },
  {
   "cell_type": "code",
   "execution_count": 23,
   "id": "5e96119e-dbf6-4c92-8407-5c3d87ded637",
   "metadata": {},
   "outputs": [
    {
     "name": "stdout",
     "output_type": "stream",
     "text": [
      "First row : tensor([1., 1., 1., 1.])\n"
     ]
    }
   ],
   "source": [
    "print(f\"First row : {tensor[0]}\")"
   ]
  },
  {
   "cell_type": "code",
   "execution_count": 24,
   "id": "61a8778d-2b20-420e-b1ad-44351372e7f8",
   "metadata": {},
   "outputs": [
    {
     "name": "stdout",
     "output_type": "stream",
     "text": [
      "First column : tensor([1., 1., 1.])\n"
     ]
    }
   ],
   "source": [
    "print(f\"First column : {tensor[:,0]}\")"
   ]
  },
  {
   "cell_type": "code",
   "execution_count": 25,
   "id": "1308e2d6-fd67-48c4-85e5-d529c8318dbd",
   "metadata": {},
   "outputs": [
    {
     "name": "stdout",
     "output_type": "stream",
     "text": [
      "Last Column : tensor([[1., 1., 1., 1.],\n",
      "        [1., 1., 1., 1.]])\n"
     ]
    }
   ],
   "source": [
    "print(f\"Last Column : {tensor[:-1]}\")"
   ]
  },
  {
   "cell_type": "code",
   "execution_count": 26,
   "id": "195a1ac0-dc3a-41d4-a6a9-225fd77496f7",
   "metadata": {},
   "outputs": [],
   "source": [
    "#setting the 2nd column to all 0\n",
    "tensor[:,1] = 0"
   ]
  },
  {
   "cell_type": "code",
   "execution_count": 27,
   "id": "348141e6-19df-4c63-ac8c-497f234ae5b3",
   "metadata": {},
   "outputs": [
    {
     "name": "stdout",
     "output_type": "stream",
     "text": [
      "tensor([[1., 0., 1., 1.],\n",
      "        [1., 0., 1., 1.],\n",
      "        [1., 0., 1., 1.]])\n"
     ]
    }
   ],
   "source": [
    "print(tensor)"
   ]
  },
  {
   "cell_type": "markdown",
   "id": "c3554f86-0283-46be-9058-d5a08e5f1e2b",
   "metadata": {},
   "source": [
    "### Joining tensors"
   ]
  },
  {
   "cell_type": "code",
   "execution_count": 28,
   "id": "e7b7bdd7-9a79-4979-8f8a-90792f23f18e",
   "metadata": {},
   "outputs": [],
   "source": [
    "t1 = torch.cat([tensor, tensor, tensor])"
   ]
  },
  {
   "cell_type": "markdown",
   "id": "284b00d7-13ec-4f8e-9685-96aa3bbdd297",
   "metadata": {},
   "source": [
    "### Arithmetic using tensor"
   ]
  },
  {
   "cell_type": "code",
   "execution_count": 29,
   "id": "7b5f00cf-100a-4a2c-a068-b1e6995b9b77",
   "metadata": {},
   "outputs": [],
   "source": [
    "### Matrix mul of two tensors\n",
    "# [3*4] x [4*3] => [3 * 3]\n",
    "y1 = tensor @ tensor.T"
   ]
  },
  {
   "cell_type": "code",
   "execution_count": 30,
   "id": "72f0e33d-8c1e-47ed-abd5-87f488f27b2b",
   "metadata": {},
   "outputs": [
    {
     "data": {
      "text/plain": [
       "tensor([[3., 3., 3.],\n",
       "        [3., 3., 3.],\n",
       "        [3., 3., 3.]])"
      ]
     },
     "execution_count": 30,
     "metadata": {},
     "output_type": "execute_result"
    }
   ],
   "source": [
    "y1"
   ]
  },
  {
   "cell_type": "code",
   "execution_count": 31,
   "id": "6e9c1cdc-3eba-462d-b412-8b66a96e0cd7",
   "metadata": {},
   "outputs": [],
   "source": [
    "y2 = tensor.matmul(tensor.T)"
   ]
  },
  {
   "cell_type": "code",
   "execution_count": 32,
   "id": "3afc6472-7a58-4bcf-aefd-397131aa26e1",
   "metadata": {},
   "outputs": [
    {
     "data": {
      "text/plain": [
       "tensor([[3., 3., 3.],\n",
       "        [3., 3., 3.],\n",
       "        [3., 3., 3.]])"
      ]
     },
     "execution_count": 32,
     "metadata": {},
     "output_type": "execute_result"
    }
   ],
   "source": [
    "y2"
   ]
  },
  {
   "cell_type": "code",
   "execution_count": 33,
   "id": "d2deaf5d-2c17-4dd1-90c1-9f3cd8258406",
   "metadata": {},
   "outputs": [
    {
     "data": {
      "text/plain": [
       "tensor([[3., 3., 3.],\n",
       "        [3., 3., 3.],\n",
       "        [3., 3., 3.]])"
      ]
     },
     "execution_count": 33,
     "metadata": {},
     "output_type": "execute_result"
    }
   ],
   "source": [
    "y3 = torch.rand_like(y1)\n",
    "torch.matmul(tensor, tensor.T, out=y3)"
   ]
  },
  {
   "cell_type": "code",
   "execution_count": 34,
   "id": "22c8ebd5-fea8-4fe3-9d88-bf6f610c6ea2",
   "metadata": {},
   "outputs": [
    {
     "data": {
      "text/plain": [
       "tensor([[3., 3., 3.],\n",
       "        [3., 3., 3.],\n",
       "        [3., 3., 3.]])"
      ]
     },
     "execution_count": 34,
     "metadata": {},
     "output_type": "execute_result"
    }
   ],
   "source": [
    "y3"
   ]
  },
  {
   "cell_type": "code",
   "execution_count": 35,
   "id": "bec9b69f-b5e4-46de-98d7-aeff7205cac0",
   "metadata": {},
   "outputs": [],
   "source": [
    "### Element-wise product"
   ]
  },
  {
   "cell_type": "code",
   "execution_count": 42,
   "id": "1982b054-624f-453b-926c-f7c8f52dc426",
   "metadata": {},
   "outputs": [],
   "source": [
    "z1 = tensor * tensor #[note: they both need to be same shape]\n",
    "z2 = tensor.mul(tensor)\n",
    "assert((z1 == z2).sum().item() / (z2.shape[1] * z2.shape[0]) == 1)"
   ]
  },
  {
   "cell_type": "code",
   "execution_count": 43,
   "id": "f3217c7c-5685-478c-92ea-af12f964b8bb",
   "metadata": {},
   "outputs": [],
   "source": [
    "### Tensor in-place operations"
   ]
  },
  {
   "cell_type": "code",
   "execution_count": 45,
   "id": "58fd534b-8af6-402b-b867-c1c52f4d2f29",
   "metadata": {},
   "outputs": [
    {
     "name": "stdout",
     "output_type": "stream",
     "text": [
      "tensor([[1., 0., 1., 1.],\n",
      "        [1., 0., 1., 1.],\n",
      "        [1., 0., 1., 1.]]) \n",
      "\n",
      "tensor([[6., 5., 6., 6.],\n",
      "        [6., 5., 6., 6.],\n",
      "        [6., 5., 6., 6.]])\n"
     ]
    }
   ],
   "source": [
    "print(f\"{tensor} \\n\")\n",
    "tensor.add_(5)      \n",
    "print(tensor)"
   ]
  },
  {
   "cell_type": "code",
   "execution_count": null,
   "id": "c336360f-2020-4c95-bc89-0e919fdad14f",
   "metadata": {},
   "outputs": [],
   "source": [
    "### Tensor to numpy"
   ]
  },
  {
   "cell_type": "code",
   "execution_count": 46,
   "id": "6274fa13-4c8c-40e3-bb40-736ed0efbd16",
   "metadata": {},
   "outputs": [
    {
     "name": "stdout",
     "output_type": "stream",
     "text": [
      "<class 'numpy.ndarray'>\n"
     ]
    }
   ],
   "source": [
    "n_a = tensor.numpy()\n",
    "print(type(n_a))"
   ]
  },
  {
   "cell_type": "code",
   "execution_count": null,
   "id": "1dcd3cd3-301e-4580-8a4c-a31f54898fb6",
   "metadata": {},
   "outputs": [],
   "source": []
  }
 ],
 "metadata": {
  "kernelspec": {
   "display_name": "Python 3 (ipykernel)",
   "language": "python",
   "name": "python3"
  },
  "language_info": {
   "codemirror_mode": {
    "name": "ipython",
    "version": 3
   },
   "file_extension": ".py",
   "mimetype": "text/x-python",
   "name": "python",
   "nbconvert_exporter": "python",
   "pygments_lexer": "ipython3",
   "version": "3.10.4"
  }
 },
 "nbformat": 4,
 "nbformat_minor": 5
}
