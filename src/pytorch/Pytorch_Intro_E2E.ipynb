{
 "cells": [
  {
   "cell_type": "code",
   "execution_count": 3,
   "id": "1fc5c037-4a04-43bc-858f-defe9b9019be",
   "metadata": {},
   "outputs": [],
   "source": [
    "import torch\n",
    "from torch import nn\n",
    "from torch.utils.data import DataLoader\n",
    "from torchvision import datasets\n",
    "from torchvision.transforms import ToTensor"
   ]
  },
  {
   "cell_type": "code",
   "execution_count": 4,
   "id": "be5907f0-0b8e-4c12-ac02-47e8588bac47",
   "metadata": {},
   "outputs": [],
   "source": [
    "### Testing the Fashion MNIST Dataset"
   ]
  },
  {
   "cell_type": "code",
   "execution_count": 6,
   "id": "0f22bcff-76a4-4f01-afeb-3c074516255f",
   "metadata": {},
   "outputs": [
    {
     "name": "stdout",
     "output_type": "stream",
     "text": [
      "Downloading http://fashion-mnist.s3-website.eu-central-1.amazonaws.com/train-images-idx3-ubyte.gz\n",
      "Downloading http://fashion-mnist.s3-website.eu-central-1.amazonaws.com/train-images-idx3-ubyte.gz to data/FashionMNIST/raw/train-images-idx3-ubyte.gz\n"
     ]
    },
    {
     "name": "stderr",
     "output_type": "stream",
     "text": [
      "26422272it [00:26, 1010474.32it/s]                                                                                                                                          \n"
     ]
    },
    {
     "name": "stdout",
     "output_type": "stream",
     "text": [
      "Extracting data/FashionMNIST/raw/train-images-idx3-ubyte.gz to data/FashionMNIST/raw\n",
      "\n",
      "Downloading http://fashion-mnist.s3-website.eu-central-1.amazonaws.com/train-labels-idx1-ubyte.gz\n",
      "Downloading http://fashion-mnist.s3-website.eu-central-1.amazonaws.com/train-labels-idx1-ubyte.gz to data/FashionMNIST/raw/train-labels-idx1-ubyte.gz\n"
     ]
    },
    {
     "name": "stderr",
     "output_type": "stream",
     "text": [
      "29696it [00:00, 187148.76it/s]                                                                                                                                              \n"
     ]
    },
    {
     "name": "stdout",
     "output_type": "stream",
     "text": [
      "Extracting data/FashionMNIST/raw/train-labels-idx1-ubyte.gz to data/FashionMNIST/raw\n",
      "\n",
      "Downloading http://fashion-mnist.s3-website.eu-central-1.amazonaws.com/t10k-images-idx3-ubyte.gz\n",
      "Downloading http://fashion-mnist.s3-website.eu-central-1.amazonaws.com/t10k-images-idx3-ubyte.gz to data/FashionMNIST/raw/t10k-images-idx3-ubyte.gz\n"
     ]
    },
    {
     "name": "stderr",
     "output_type": "stream",
     "text": [
      "4422656it [00:02, 1945842.10it/s]                                                                                                                                           \n"
     ]
    },
    {
     "name": "stdout",
     "output_type": "stream",
     "text": [
      "Extracting data/FashionMNIST/raw/t10k-images-idx3-ubyte.gz to data/FashionMNIST/raw\n",
      "\n",
      "Downloading http://fashion-mnist.s3-website.eu-central-1.amazonaws.com/t10k-labels-idx1-ubyte.gz\n",
      "Downloading http://fashion-mnist.s3-website.eu-central-1.amazonaws.com/t10k-labels-idx1-ubyte.gz to data/FashionMNIST/raw/t10k-labels-idx1-ubyte.gz\n"
     ]
    },
    {
     "name": "stderr",
     "output_type": "stream",
     "text": [
      "6144it [00:00, 2147304.71it/s]                                                                                                                                              "
     ]
    },
    {
     "name": "stdout",
     "output_type": "stream",
     "text": [
      "Extracting data/FashionMNIST/raw/t10k-labels-idx1-ubyte.gz to data/FashionMNIST/raw\n",
      "\n"
     ]
    },
    {
     "name": "stderr",
     "output_type": "stream",
     "text": [
      "\n"
     ]
    }
   ],
   "source": [
    "### Downloading training data from open datasets.\n",
    "\n",
    "training_data = datasets.FashionMNIST(\n",
    "    root=\"data\",\n",
    "    train=True,\n",
    "    download=True,\n",
    "    transform=ToTensor()\n",
    ")"
   ]
  },
  {
   "cell_type": "code",
   "execution_count": 9,
   "id": "c537d3c0-6e88-4bfe-99fa-217d8fbd68d7",
   "metadata": {},
   "outputs": [],
   "source": [
    "test_data = datasets.FashionMNIST(\n",
    "    root=\"data\",\n",
    "    train=False,\n",
    "    download=True,\n",
    "    transform=ToTensor()\n",
    ")"
   ]
  },
  {
   "cell_type": "code",
   "execution_count": 18,
   "id": "4b1c4087-04de-4f70-aead-ba029dbb6dc0",
   "metadata": {},
   "outputs": [
    {
     "name": "stdout",
     "output_type": "stream",
     "text": [
      "Shape of X [N, C, H, W]: torch.Size([64, 1, 28, 28])\n",
      "Shape of y: torch.Size([64]) torch.int64\n"
     ]
    }
   ],
   "source": [
    "batch_size = 64\n",
    "\n",
    "# Creating the dataloaders\n",
    "train_dataloader = DataLoader(training_data, batch_size=batch_size)\n",
    "tests_dataloader = DataLoader(test_data, batch_size=batch_size)\n",
    "\n",
    "for X,y in tests_dataloader:\n",
    "    print(f\"Shape of X [N, C, H, W]: {X.shape}\")\n",
    "    print(f\"Shape of y: {y.shape} {y.dtype}\")\n",
    "    break"
   ]
  },
  {
   "cell_type": "markdown",
   "id": "25da4751-8876-4847-be85-44bec8566d27",
   "metadata": {},
   "source": [
    "### Creating Models"
   ]
  },
  {
   "cell_type": "code",
   "execution_count": 20,
   "id": "befb2a73-625d-426e-b161-e782c1b6b276",
   "metadata": {},
   "outputs": [
    {
     "name": "stdout",
     "output_type": "stream",
     "text": [
      "using cuda device\n"
     ]
    }
   ],
   "source": [
    "# Get cpu or gpu device for training\n",
    "device = \"cuda\" if torch.cuda.is_available() else \"cpu\"\n",
    "print(f\"using {device} device\")"
   ]
  },
  {
   "cell_type": "code",
   "execution_count": 21,
   "id": "ff465b7e-df53-4017-95fb-224a18872b99",
   "metadata": {},
   "outputs": [
    {
     "name": "stdout",
     "output_type": "stream",
     "text": [
      "NeuralNetwork(\n",
      "  (flatten): Flatten(start_dim=1, end_dim=-1)\n",
      "  (linear_relu_stack): Sequential(\n",
      "    (0): Linear(in_features=784, out_features=512, bias=True)\n",
      "    (1): ReLU()\n",
      "    (2): Linear(in_features=512, out_features=512, bias=True)\n",
      "    (3): ReLU()\n",
      "    (4): Linear(in_features=512, out_features=10, bias=True)\n",
      "  )\n",
      ")\n"
     ]
    }
   ],
   "source": [
    "### Defining a model\n",
    "\n",
    "class NeuralNetwork(nn.Module):\n",
    "    def __init__(self):\n",
    "        super().__init__()\n",
    "        self.flatten = nn.Flatten()\n",
    "        self.linear_relu_stack = nn.Sequential(\n",
    "            nn.Linear(28*28, 512),\n",
    "            nn.ReLU(),\n",
    "            nn.Linear(512, 512),\n",
    "            nn.ReLU(),\n",
    "            nn.Linear(512, 10)\n",
    "        )\n",
    "        \n",
    "    def forward(self, x):\n",
    "        x = self.flatten(x)\n",
    "        logits = self.linear_relu_stack(x)\n",
    "        return logits\n",
    "    \n",
    "model = NeuralNetwork().to(device)\n",
    "print(model)"
   ]
  },
  {
   "cell_type": "markdown",
   "id": "ee6ab350-700f-4f7c-b1be-ccb599adde2b",
   "metadata": {},
   "source": [
    "### Optimizing the model params"
   ]
  },
  {
   "cell_type": "code",
   "execution_count": 22,
   "id": "4df85b74-2b22-482f-8939-565f6d4ccf15",
   "metadata": {},
   "outputs": [],
   "source": [
    "loss_fn = nn.CrossEntropyLoss()\n",
    "optimizer = torch.optim.SGD(model.parameters(), lr=1e-3)"
   ]
  },
  {
   "cell_type": "code",
   "execution_count": 23,
   "id": "f36a8025-6fb1-4d9c-933d-08eec194e96d",
   "metadata": {},
   "outputs": [],
   "source": [
    "\"\"\"\n",
    "In a single training step:\n",
    "    The model makes prediction on the training datasets (fed in batches)\n",
    "    And back-propagates the predicition errors to adjust the model params\n",
    "    \n",
    "\"\"\"\n",
    "\n",
    "def train(dataloader, model, loss_fn, optimizer):\n",
    "    size = len(dataloader.dataset)\n",
    "    model.train()\n",
    "    for batch, (X,y) in enumerate(dataloader):\n",
    "        X, y = X.to(device), y.to(device)\n",
    "        \n",
    "        # Calculate the prediction error\n",
    "        pred = model(X)\n",
    "        loss = loss_fn(pred, y)\n",
    "        \n",
    "        #Backpropagation\n",
    "        optimizer.zero_grad()\n",
    "        loss.backward()\n",
    "        optimizer.step()\n",
    "        \n",
    "        if batch % 100 == 0:\n",
    "            loss, current = loss.item(), batch * len(X)\n",
    "            print(f\"loss : {loss:>7f} [{current:>5d}/{size:>5d}]\")"
   ]
  },
  {
   "cell_type": "markdown",
   "id": "84da19ac-4923-48e9-afab-da55b0bbd88f",
   "metadata": {},
   "source": [
    "\n",
    "    Writing a function to check the performance of the model \n",
    "    against the test dataset\n"
   ]
  },
  {
   "cell_type": "code",
   "execution_count": 30,
   "id": "7851e08d-62ec-4798-a130-fa74c1d140f8",
   "metadata": {},
   "outputs": [],
   "source": [
    "def test(dataloader, model, loss_fn):\n",
    "    size = len(dataloader.dataset)\n",
    "    num_batches = len(dataloader)\n",
    "    model.eval()\n",
    "    test_loss, correct = 0,0 \n",
    "    with torch.no_grad():\n",
    "        for X,y in dataloader:\n",
    "            X, y = X.to(device), y.to(device)\n",
    "            pred = model(X)\n",
    "            test_loss += loss_fn(pred, y).item()\n",
    "            correct += (pred.argmax(1) == y).type(torch.float).sum().item()\n",
    "    test_loss /= num_batches\n",
    "    correct /=size\n",
    "    print(f\"Test Error: \\n Accuracy: {(100*correct):>0.1f}%, Avg loss: {test_loss:>8f} \\n\")\n",
    "    "
   ]
  },
  {
   "cell_type": "code",
   "execution_count": null,
   "id": "1bd6428d-79bf-49c5-b15f-b6356d0c0f73",
   "metadata": {},
   "outputs": [],
   "source": [
    "The training process is conducted over various epochs or iterations. \n",
    "During each epoch the model learns parameters to make better predictions.\n",
    "We print the models accuracy/loss at each epoch.\n",
    "\n",
    "Ideally, we want that the accuracy increases and the loss decreases with each epoch."
   ]
  },
  {
   "cell_type": "code",
   "execution_count": 31,
   "id": "e995cb29-fc58-43e5-8b0f-e0f74e43ee64",
   "metadata": {},
   "outputs": [
    {
     "name": "stdout",
     "output_type": "stream",
     "text": [
      "Epoch 1\n",
      "-----------------------\n",
      "loss : 1.564231 [    0/60000]\n",
      "loss : 1.528558 [ 6400/60000]\n",
      "loss : 1.387985 [12800/60000]\n",
      "loss : 1.467457 [19200/60000]\n",
      "loss : 1.336430 [25600/60000]\n",
      "loss : 1.334263 [32000/60000]\n",
      "loss : 1.345402 [38400/60000]\n",
      "loss : 1.283904 [44800/60000]\n",
      "loss : 1.310115 [51200/60000]\n",
      "loss : 1.216826 [57600/60000]\n",
      "Test Error: \n",
      " Accuracy: 63.1%, Avg loss: 1.244187 \n",
      "\n",
      "Epoch 2\n",
      "-----------------------\n",
      "loss : 1.317175 [    0/60000]\n",
      "loss : 1.298281 [ 6400/60000]\n",
      "loss : 1.141680 [12800/60000]\n",
      "loss : 1.251946 [19200/60000]\n",
      "loss : 1.119384 [25600/60000]\n",
      "loss : 1.139459 [32000/60000]\n",
      "loss : 1.154891 [38400/60000]\n",
      "loss : 1.110339 [44800/60000]\n",
      "loss : 1.138243 [51200/60000]\n",
      "loss : 1.060790 [57600/60000]\n",
      "Test Error: \n",
      " Accuracy: 64.7%, Avg loss: 1.082703 \n",
      "\n",
      "Epoch 3\n",
      "-----------------------\n",
      "loss : 1.151347 [    0/60000]\n",
      "loss : 1.151645 [ 6400/60000]\n",
      "loss : 0.977579 [12800/60000]\n",
      "loss : 1.116993 [19200/60000]\n",
      "loss : 0.985756 [25600/60000]\n",
      "loss : 1.007058 [32000/60000]\n",
      "loss : 1.038781 [38400/60000]\n",
      "loss : 0.999170 [44800/60000]\n",
      "loss : 1.026490 [51200/60000]\n",
      "loss : 0.963906 [57600/60000]\n",
      "Test Error: \n",
      " Accuracy: 65.9%, Avg loss: 0.978641 \n",
      "\n",
      "Epoch 4\n",
      "-----------------------\n",
      "loss : 1.035777 [    0/60000]\n",
      "loss : 1.056479 [ 6400/60000]\n",
      "loss : 0.864737 [12800/60000]\n",
      "loss : 1.026657 [19200/60000]\n",
      "loss : 0.901093 [25600/60000]\n",
      "loss : 0.913719 [32000/60000]\n",
      "loss : 0.963640 [38400/60000]\n",
      "loss : 0.926491 [44800/60000]\n",
      "loss : 0.948723 [51200/60000]\n",
      "loss : 0.899274 [57600/60000]\n",
      "Test Error: \n",
      " Accuracy: 67.2%, Avg loss: 0.907520 \n",
      "\n",
      "Epoch 5\n",
      "-----------------------\n",
      "loss : 0.950006 [    0/60000]\n",
      "loss : 0.990054 [ 6400/60000]\n",
      "loss : 0.783495 [12800/60000]\n",
      "loss : 0.962234 [19200/60000]\n",
      "loss : 0.844335 [25600/60000]\n",
      "loss : 0.845013 [32000/60000]\n",
      "loss : 0.910936 [38400/60000]\n",
      "loss : 0.877296 [44800/60000]\n",
      "loss : 0.892340 [51200/60000]\n",
      "loss : 0.852711 [57600/60000]\n",
      "Test Error: \n",
      " Accuracy: 68.4%, Avg loss: 0.856273 \n",
      "\n",
      "Done!\n"
     ]
    }
   ],
   "source": [
    "epochs = 5\n",
    "for t in range(epochs):\n",
    "    print(f\"Epoch {t+1}\\n-----------------------\")\n",
    "    train(train_dataloader, model, loss_fn, optimizer)\n",
    "    test(tests_dataloader, model, loss_fn)\n",
    "print(\"Done!\")"
   ]
  },
  {
   "cell_type": "code",
   "execution_count": 33,
   "id": "f9bbecea-4429-46fa-8aea-04cc7f2d6823",
   "metadata": {},
   "outputs": [
    {
     "name": "stdout",
     "output_type": "stream",
     "text": [
      "Saved PyTorch Model State to model.pth\n"
     ]
    }
   ],
   "source": [
    "### Saving Models\n",
    "torch.save(model.state_dict(), \"model.pth\")\n",
    "print(\"Saved PyTorch Model State to model.pth\")"
   ]
  },
  {
   "cell_type": "code",
   "execution_count": 34,
   "id": "a6237ea3-afab-4795-8ca6-164698b4d65a",
   "metadata": {},
   "outputs": [],
   "source": [
    "### Loading models"
   ]
  },
  {
   "cell_type": "code",
   "execution_count": 37,
   "id": "b6f6e0dc-00b6-43c1-8e54-7f56e6d3aa34",
   "metadata": {},
   "outputs": [
    {
     "data": {
      "text/plain": [
       "<All keys matched successfully>"
      ]
     },
     "execution_count": 37,
     "metadata": {},
     "output_type": "execute_result"
    }
   ],
   "source": [
    "model = NeuralNetwork()\n",
    "model.load_state_dict(torch.load(\"model.pth\"))"
   ]
  },
  {
   "cell_type": "code",
   "execution_count": null,
   "id": "3d7d744c-42e6-41d9-97ec-9013ff349db2",
   "metadata": {},
   "outputs": [],
   "source": [
    "### Inference"
   ]
  },
  {
   "cell_type": "code",
   "execution_count": 38,
   "id": "3df53538-3e03-46ca-81d7-2643c909492a",
   "metadata": {},
   "outputs": [],
   "source": [
    "classes = [\n",
    "    \"T-shirt/top\",\n",
    "    \"Trouser\",\n",
    "    \"Pullover\",\n",
    "    \"Dress\",\n",
    "    \"Coat\",\n",
    "    \"Sandal\",\n",
    "    \"Shirt\",\n",
    "    \"Sneaker\",\n",
    "    \"Bag\",\n",
    "    \"Ankle boot\",\n",
    "]"
   ]
  },
  {
   "cell_type": "code",
   "execution_count": 39,
   "id": "bf701d6d-22ce-41b5-b923-0c6aa225f021",
   "metadata": {},
   "outputs": [
    {
     "data": {
      "text/plain": [
       "NeuralNetwork(\n",
       "  (flatten): Flatten(start_dim=1, end_dim=-1)\n",
       "  (linear_relu_stack): Sequential(\n",
       "    (0): Linear(in_features=784, out_features=512, bias=True)\n",
       "    (1): ReLU()\n",
       "    (2): Linear(in_features=512, out_features=512, bias=True)\n",
       "    (3): ReLU()\n",
       "    (4): Linear(in_features=512, out_features=10, bias=True)\n",
       "  )\n",
       ")"
      ]
     },
     "execution_count": 39,
     "metadata": {},
     "output_type": "execute_result"
    }
   ],
   "source": [
    "model.eval()"
   ]
  },
  {
   "cell_type": "code",
   "execution_count": 41,
   "id": "dd5c35c8-3e4f-4da8-a8e2-4a1e52e0b48b",
   "metadata": {},
   "outputs": [],
   "source": [
    "x, y = test_data[0][0], test_data[0][1]"
   ]
  },
  {
   "cell_type": "code",
   "execution_count": 43,
   "id": "26e0f811-8c6e-4e29-898e-dfe7db87baa5",
   "metadata": {},
   "outputs": [
    {
     "name": "stdout",
     "output_type": "stream",
     "text": [
      "Predicted: Ankle boot , Actual: Ankle boot\n"
     ]
    }
   ],
   "source": [
    "with torch.no_grad():\n",
    "    pred = model(x)\n",
    "    predicted, actual = classes[pred[0].argmax(0)], classes[y]\n",
    "    print(f\"Predicted: {predicted} , Actual: {actual}\")"
   ]
  },
  {
   "cell_type": "code",
   "execution_count": null,
   "id": "61f27166-f931-4522-a621-3d186d1034be",
   "metadata": {},
   "outputs": [],
   "source": []
  }
 ],
 "metadata": {
  "kernelspec": {
   "display_name": "Python 3 (ipykernel)",
   "language": "python",
   "name": "python3"
  },
  "language_info": {
   "codemirror_mode": {
    "name": "ipython",
    "version": 3
   },
   "file_extension": ".py",
   "mimetype": "text/x-python",
   "name": "python",
   "nbconvert_exporter": "python",
   "pygments_lexer": "ipython3",
   "version": "3.10.4"
  }
 },
 "nbformat": 4,
 "nbformat_minor": 5
}
